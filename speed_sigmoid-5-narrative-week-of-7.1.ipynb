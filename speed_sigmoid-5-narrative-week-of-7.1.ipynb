{
 "cells": [
  {
   "cell_type": "code",
   "execution_count": 1,
   "metadata": {},
   "outputs": [],
   "source": [
    "import numpy as np\n",
    "import matplotlib.pyplot as plt\n",
    "import warnings\n",
    "warnings.filterwarnings('ignore')\n",
    "from ipywidgets import interactive,FloatSlider\n",
    "import matplotlib"
   ]
  },
  {
   "cell_type": "code",
   "execution_count": 2,
   "metadata": {},
   "outputs": [],
   "source": [
    "def sigmoid(x,x_0,L,y_0,k):\n",
    "    return (x-x_0)+(L/2)+y_0 - L/(np.exp(-k*(x-x_0))+1)\n",
    "\n",
    "\n",
    "def speed_sigmoid_func(x,x_0a,x_0b,L,k,y_0):\n",
    "    output = np.zeros_like(x)\n",
    "    output[(x>=x_0a)&(x<=x_0b)] = y_0\n",
    "    output[x<x_0a] = sigmoid(x[x<x_0a],x_0a,L,y_0,k)\n",
    "    output[x>x_0b] = sigmoid(x[x>x_0b],x_0b,L,y_0,k)\n",
    "    return output\n"
   ]
  },
  {
   "cell_type": "code",
   "execution_count": 4,
   "metadata": {
    "scrolled": false
   },
   "outputs": [
    {
     "data": {
      "application/vnd.jupyter.widget-view+json": {
       "model_id": "3f517edf6778457e90360bdcead64c70",
       "version_major": 2,
       "version_minor": 0
      },
      "text/plain": [
       "interactive(children=(FloatSlider(value=-0.4, continuous_update=False, description='x_0a', max=6.0, min=-2.0),…"
      ]
     },
     "metadata": {},
     "output_type": "display_data"
    }
   ],
   "source": [
    "def f(x_0a,x_0b,L,k,y_0):\n",
    "    yl,yu = -4,8\n",
    "    inputs = np.linspace(-5,8,100)\n",
    "    fig = plt.figure(figsize=(12,8))\n",
    "    ax = plt.subplot()\n",
    "    plt.plot(inputs,speed_sigmoid_func(inputs,x_0a,x_0b,L,k,y_0))\n",
    "    plt.ylim([yl,yu])\n",
    "    ax.spines['left'].set_position('center')\n",
    "    ax.spines['bottom'].set_position('center')\n",
    "\n",
    "    # Eliminate upper and right axes\n",
    "    ax.spines['right'].set_color('none')\n",
    "    ax.spines['top'].set_color('none')\n",
    "\n",
    "    # Show ticks in the left and lower axes only\n",
    "    ax.xaxis.set_ticks_position('bottom')\n",
    "    ax.yaxis.set_ticks_position('left')\n",
    "    \n",
    "    ax.spines['bottom'].set_position('zero')\n",
    "    ax.spines['left'].set_position('zero')\n",
    "\n",
    "    \n",
    "def slider(start,stop,step,init):#,init):\n",
    "    return FloatSlider(\n",
    "    value=init,\n",
    "    min=start,\n",
    "    max=stop,\n",
    "    step=step,\n",
    "    disabled=False,\n",
    "    continuous_update=False,\n",
    "    orientation='horizontal',\n",
    "    readout=True,\n",
    "    readout_format='.2f',\n",
    ")\n",
    "    \n",
    "interactive_plot = interactive(f, x_0a =slider(-2,6,0.1,-0.4),x_0b =slider(-2,6,0.1,3.6),\n",
    "                                L=slider(0,4,0.1,0.8),k=slider(.1,10,0.01,4.),y_0=slider(0,4,0.1,1.6))\n",
    "output = interactive_plot.children[-1]\n",
    "output.layout.height = '1000px'\n",
    "interactive_plot\n"
   ]
  },
  {
   "cell_type": "markdown",
   "metadata": {},
   "source": [
    "**Will's explanation of the perfect PID controller for windspeed/groundspeed.**"
   ]
  },
  {
   "cell_type": "markdown",
   "metadata": {},
   "source": [
    "Start with the force equation:\n",
    "$$m\\dot{v} = -c(v+w)$$"
   ]
  },
  {
   "cell_type": "markdown",
   "metadata": {},
   "source": [
    "where $v$ is the fly's groundspeed, and $w$, the wind speed (along the fly body axis) is positive when the wind is blowing against the fly's direct.\n",
    "\n",
    "Before we consider the force the fly exerts, the force the fly experiences (right side) is a constant $c$ times the sum of the groundspeed and the windspeed.\n",
    "\n",
    "For example in the case where the groundspeed $v=1$ and the windspeed is $-1$ (wind going with the fly), the force is 0. If $v=1$ and $w=1$ (wind going against the fly), the fly is experiencing a force of 2.\n",
    "\n",
    "Then add in the force (thrust) the fly can produce:"
   ]
  },
  {
   "cell_type": "markdown",
   "metadata": {},
   "source": [
    "$$m\\dot{v} = -c(v+w) + F(v,v_{sp})$$"
   ]
  },
  {
   "cell_type": "markdown",
   "metadata": {},
   "source": [
    "$F$ is some function, $v$ is the current fly speed, $v_{sp}$ is the set point velocity the fly wants."
   ]
  },
  {
   "cell_type": "markdown",
   "metadata": {},
   "source": [
    "If we set the acceleration in the above to 0, \n",
    "\n",
    "$$c(v+w) = F(v,v_{sp})$$\n",
    "$$ v = \\frac{F}{c} - w $$"
   ]
  },
  {
   "cell_type": "markdown",
   "metadata": {},
   "source": [
    "If we plot groundspeed as a function of windspeed, the system described above will look like this:"
   ]
  },
  {
   "cell_type": "markdown",
   "metadata": {},
   "source": [
    "<img src=\"files/simple_airspeed_controller.JPG\" width=400px></center>"
   ]
  },
  {
   "cell_type": "markdown",
   "metadata": {},
   "source": [
    "there are range of wind values for which the fly's thrust can completely compensate for the wind and achieve equilibrium $\\dot{v} = 0$.\n",
    "\n",
    "$w_1$ is the maximum postive (into the fly) wind velocity for which the fly can produce a fully compensating counter-force (call this $F_{max}$) into the wind. After this point, the sum of forces becomes negative and so then does $\\dot{v}$. (why is it linear with respect to $w$?)\n",
    "\n",
    "As we head towards $w_2$, the thrust decreases and could become negative, ie, the fly is applying force backwards to stop from being pushed forwards (negative w) by the wind.\n",
    "\n",
    "At $w_2$, we have the largest backward force the fly can produce in the face of a negative wind (wind going in direction of the fly), after which point the fly starts getting pushed forward."
   ]
  },
  {
   "cell_type": "code",
   "execution_count": 8,
   "metadata": {},
   "outputs": [
    {
     "data": {
      "application/vnd.jupyter.widget-view+json": {
       "model_id": "4093aba1e2f04069b3e9817d7faaeb1c",
       "version_major": 2,
       "version_minor": 0
      },
      "text/plain": [
       "interactive(children=(FloatSlider(value=-0.4, continuous_update=False, description='x_0a', max=6.0, min=-2.0, …"
      ]
     },
     "metadata": {},
     "output_type": "display_data"
    }
   ],
   "source": [
    "def pre_sigmoid(x,x_0,L,y_0,k):\n",
    "     return (L/2)+y_0 - L/(np.exp(-k*(x-x_0))+1)\n",
    "\n",
    "\n",
    "def sigmoid(x,x_0,L,y_0,k,m):\n",
    "    return m*(x-x_0)+(L/2)+y_0 - L/(np.exp(-k*(x-x_0))+1)\n",
    "\n",
    "\n",
    "def speed_sigmoid_func(x,x_0a,x_0b,L,k,y_0,m):\n",
    "    output = np.zeros_like(x)\n",
    "    output[(x>=x_0a)&(x<=x_0b)] = y_0\n",
    "    output[x<x_0a] = sigmoid(x[x<x_0a],x_0a,L,y_0,k,m)\n",
    "    output[x>x_0b] = sigmoid(x[x>x_0b],x_0b,L,y_0,k,m)\n",
    "    return output\n",
    "\n",
    "def f(x_0a,x_0b,L,k,y_0,m):\n",
    "    yl,yu = -4,8\n",
    "    inputs = np.linspace(-5,8,100)\n",
    "    fig = plt.figure(figsize=(12,8))\n",
    "    plt.subplot(2,1,1)\n",
    "    plt.plot(inputs,pre_sigmoid(inputs,x_0a,L,y_0,k))\n",
    "    plt.plot(inputs,y_0*np.ones_like(inputs),'--')\n",
    "    plt.ylim([yl,yu])\n",
    "    ax= plt.subplot(2,1,2)\n",
    "    plt.plot(inputs,sigmoid(inputs,x_0a,L,y_0,k,m))\n",
    "    plt.plot(inputs,sigmoid(inputs,x_0b,L,y_0,k,m))\n",
    "    plt.plot(inputs,speed_sigmoid_func(inputs,x_0a,x_0b,L,k,y_0,m),label='final curve',color='blue')\n",
    "    plt.plot(inputs,m*(inputs-x_0a)+(L/2)+y_0,'--')\n",
    "    plt.plot(inputs,m*(inputs-x_0b)-(L/2)+y_0,'--')\n",
    "    \n",
    "    ax.spines['left'].set_position('center')\n",
    "    ax.spines['bottom'].set_position('center')\n",
    "\n",
    "    # Eliminate upper and right axes\n",
    "    ax.spines['right'].set_color('none')\n",
    "    ax.spines['top'].set_color('none')\n",
    "\n",
    "    # Show ticks in the left and lower axes only\n",
    "    ax.xaxis.set_ticks_position('bottom')\n",
    "    ax.yaxis.set_ticks_position('left')\n",
    "    \n",
    "    ax.spines['bottom'].set_position('zero')\n",
    "    ax.spines['left'].set_position('zero')\n",
    "\n",
    "\n",
    "    \n",
    "    plt.ylim([yl,yu])\n",
    "    plt.legend()\n",
    "    \n",
    "def slider(start,stop,step,init):#,init):\n",
    "    return FloatSlider(\n",
    "    value=init,\n",
    "    min=start,\n",
    "    max=stop,\n",
    "    step=step,\n",
    "    disabled=False,\n",
    "    continuous_update=False,\n",
    "    orientation='horizontal',\n",
    "    readout=True,\n",
    "    readout_format='.2f',\n",
    ")\n",
    "    \n",
    "interactive_plot = interactive(f, x_0a =slider(-2,6,0.01,-0.4),x_0b =slider(-2,6,0.01,3.6),\n",
    "                                L=slider(0,4,0.1,0.8),k=slider(.1,10,0.01,4.),y_0=slider(0,4,0.1,1.6),\n",
    "                                  m=slider(0,4,0.1,1.))\n",
    "output = interactive_plot.children[-1]\n",
    "output.layout.height = '600px'\n",
    "interactive_plot\n"
   ]
  },
  {
   "cell_type": "code",
   "execution_count": 9,
   "metadata": {},
   "outputs": [
    {
     "data": {
      "application/vnd.jupyter.widget-view+json": {
       "model_id": "acc25512c2924bd7844f58469fe07db5",
       "version_major": 2,
       "version_minor": 0
      },
      "text/plain": [
       "interactive(children=(FloatSlider(value=-0.4, continuous_update=False, description='x_0a', max=6.0, min=-2.0, …"
      ]
     },
     "metadata": {},
     "output_type": "display_data"
    }
   ],
   "source": [
    "\n",
    "def f(x_0a,x_0b,L,k,y_0,m,theta):\n",
    "    yl,yu = -4,8\n",
    "    inputs = np.linspace(-5,8,100)\n",
    "    fig = plt.figure(figsize=(12,8))\n",
    "    ax= plt.subplot(1,3,1)\n",
    "    ax.set_aspect('equal')\n",
    "    plt.plot(inputs,pre_sigmoid(inputs,x_0a,L,y_0,k))\n",
    "    plt.plot(inputs,y_0*np.ones_like(inputs),'--')\n",
    "    plt.ylim([yl,yu])\n",
    "    ax = plt.subplot(1,3,2)\n",
    "    ax.set_aspect('equal')\n",
    "    plt.plot(inputs,sigmoid(inputs,x_0a,L,y_0,k,m))\n",
    "    plt.plot(inputs,sigmoid(inputs,x_0b,L,y_0,k,m))\n",
    "    outputs = speed_sigmoid_func(inputs,x_0a,x_0b,L,k,y_0,m)\n",
    "    plt.plot(inputs,m*(inputs-x_0a)+(L/2)+y_0,'--')\n",
    "    plt.plot(inputs,m*(inputs-x_0b)-(L/2)+y_0,'--')\n",
    "    plt.plot(inputs,outputs,label='final curve',color='blue')\n",
    "    plt.ylim([yl,yu])\n",
    "    xlim = ax.get_xlim()\n",
    "    plt.legend()\n",
    "    \n",
    "    rot_mat = np.array([[np.cos(theta),-1.*np.sin(theta)],[np.sin(theta),np.cos(theta)]])\n",
    "    rotation_origin = np.array([x_0a+(x_0b-x_0a)/2,y_0])\n",
    "    plt.plot(rotation_origin[0],rotation_origin[1],'o',color='r')\n",
    "    rotation_origin_ones = np.repeat(rotation_origin[:,None],100,axis=1)\n",
    "    inputs1,outputs1 = np.dot(rot_mat,np.vstack((inputs,outputs))-rotation_origin_ones)+rotation_origin_ones\n",
    "    ax = plt.subplot(1,3,3)\n",
    "    ax.set_aspect('equal')\n",
    "    plt.plot(inputs,outputs,color='blue')\n",
    "    plt.plot(inputs1,outputs1,label='rotated curve')\n",
    "    plt.ylim([yl,yu])\n",
    "    plt.xlim(xlim)\n",
    "    plt.legend()\n",
    "    \n",
    "\n",
    "interactive_plot = interactive(f, x_0a =slider(-2,6,0.01,-0.4),x_0b =slider(-2,6,0.01,3.6),\n",
    "                                L=slider(0,4,0.1,0.8),k=slider(.1,10,0.01,4.),y_0=slider(0,4,0.1,1.6),\n",
    "                                  m=slider(0,4,0.1,1.),theta=slider(0,np.pi/2,0.1,np.pi/6))\n",
    "    \n",
    "    \n",
    "output = interactive_plot.children[-1]\n",
    "output.layout.height = '300px'\n",
    "interactive_plot\n"
   ]
  },
  {
   "cell_type": "code",
   "execution_count": 12,
   "metadata": {},
   "outputs": [
    {
     "data": {
      "application/vnd.jupyter.widget-view+json": {
       "model_id": "7f38953ef54f4027a315f153b1c247d8",
       "version_major": 2,
       "version_minor": 0
      },
      "text/plain": [
       "interactive(children=(FloatSlider(value=-0.4, continuous_update=False, description='x_0a', max=6.0, min=-2.0),…"
      ]
     },
     "metadata": {},
     "output_type": "display_data"
    }
   ],
   "source": [
    "#Concept-proofing the rotation input-output\n",
    "def find_nearest(array, value):\n",
    "    #For each element in value, returns the index of array it is closest to.\n",
    "    #array should be 1 x n and value should be m x 1\n",
    "    idx = (np.abs(array - value)).argmin(axis=1) #this rounds up and down (\n",
    "    #of the two values in array closest to value, picks the closer. (not the larger or the smaller)\n",
    "    return idx\n",
    "\n",
    "\n",
    "def f(x_0a,x_0b,L,k,y_0,m,theta):\n",
    "    yl,yu = -4,8\n",
    "    buffer = 10\n",
    "    num_points = 1000\n",
    "    inputs = np.linspace(yl-buffer,yu+buffer,num_points)\n",
    "    outputs = speed_sigmoid_func(inputs,x_0a,x_0b,L,k,y_0,m)\n",
    "    fig = plt.figure(figsize=(12,8))\n",
    "    rot_mat = np.array([[np.cos(theta),-1.*np.sin(theta)],[np.sin(theta),np.cos(theta)]])\n",
    "    rotation_origin = np.array([x_0a+(x_0b-x_0a)/2,y_0])\n",
    "    plt.plot(rotation_origin[0],rotation_origin[1],'o',color='r')\n",
    "    rotation_origin_ones = np.repeat(rotation_origin[:,None],num_points,axis=1)\n",
    "    inputs1,outputs1 = np.dot(rot_mat,np.vstack((inputs,outputs))-rotation_origin_ones)+rotation_origin_ones\n",
    "    ax = plt.subplot()\n",
    "    ax.set_aspect('equal')\n",
    "    plt.plot(inputs,outputs,color='blue')\n",
    "    plt.plot(inputs1,outputs1,label='rotated curve')\n",
    "    \n",
    "    which_inputs = find_nearest(inputs1,inputs[:,None])\n",
    "    \n",
    "    plt.plot(inputs,outputs1[which_inputs],'o',color='orange')\n",
    "    \n",
    "    plt.ylim([yl,yu])\n",
    "#     plt.xlim(xlim)\n",
    "    plt.legend()\n",
    "    \n",
    "\n",
    "interactive_plot = interactive(f, x_0a =slider(-2,6,0.1,-0.4),x_0b =slider(-2,6,0.1,3.6),\n",
    "                                L=slider(0,4,0.1,0.8),k=slider(.1,10,0.01,4.),y_0=slider(0,4,0.1,1.6),\n",
    "                                  m=slider(0,4,0.1,1.),theta=slider(0,np.pi/2,0.1,np.pi/6))\n",
    "    \n",
    "    \n",
    "output = interactive_plot.children[-1]\n",
    "output.layout.height = '300px'\n",
    "interactive_plot"
   ]
  },
  {
   "cell_type": "markdown",
   "metadata": {},
   "source": [
    "It follows then that we can define the rotated function as"
   ]
  },
  {
   "cell_type": "code",
   "execution_count": 13,
   "metadata": {},
   "outputs": [],
   "source": [
    "def f_rotated(inputs,x_0a,x_0b,L,k,y_0,m,theta):\n",
    "    yl,yu = -4,8\n",
    "    buffer = 10\n",
    "    num_points = len(inputs)\n",
    "    outputs = speed_sigmoid_func(inputs,x_0a,x_0b,L,k,y_0,m)\n",
    "    rot_mat = np.array([[np.cos(theta),-1.*np.sin(theta)],[np.sin(theta),np.cos(theta)]])\n",
    "    rotation_origin = np.array([x_0a+(x_0b-x_0a)/2,y_0])\n",
    "    rotation_origin_ones = np.repeat(rotation_origin[:,None],num_points,axis=1)\n",
    "    inputs1,outputs1 = np.dot(rot_mat,np.vstack((inputs,outputs))-rotation_origin_ones)+rotation_origin_ones    \n",
    "    which_inputs = find_nearest(inputs1,inputs[:,None])\n",
    "    return outputs1[which_inputs]\n",
    "\n"
   ]
  },
  {
   "cell_type": "code",
   "execution_count": 14,
   "metadata": {},
   "outputs": [
    {
     "data": {
      "application/vnd.jupyter.widget-view+json": {
       "model_id": "d0124a6efa464b818c9aa63b627e20a2",
       "version_major": 2,
       "version_minor": 0
      },
      "text/plain": [
       "interactive(children=(FloatSlider(value=-0.4, continuous_update=False, description='x_0a', max=6.0, min=-2.0),…"
      ]
     },
     "metadata": {},
     "output_type": "display_data"
    }
   ],
   "source": [
    "def plot_f_rotated(x_0a,x_0b,L,k,y_0,m,theta):\n",
    "    yl,yu = -4,8\n",
    "    buffer = 10\n",
    "    num_points = 1000\n",
    "    inputs = np.linspace(yl-buffer,yu+buffer,num_points)\n",
    "    outputs = f_rotated(inputs,x_0a,x_0b,L,k,y_0,m,theta)\n",
    "    plt.figure(figsize=(8,8))\n",
    "    ax = plt.subplot()\n",
    "    ax.set_aspect('equal')\n",
    "    plt.plot(inputs,outputs,'o',color='orange')\n",
    "    plt.xlim([-10,10])\n",
    "    plt.ylim([-10,10])\n",
    "    ax.spines['left'].set_position('center')\n",
    "    ax.spines['bottom'].set_position('center')\n",
    "\n",
    "    # Eliminate upper and right axes\n",
    "    ax.spines['right'].set_color('none')\n",
    "    ax.spines['top'].set_color('none')\n",
    "\n",
    "    # Show ticks in the left and lower axes only\n",
    "    ax.xaxis.set_ticks_position('bottom')\n",
    "    ax.yaxis.set_ticks_position('left')\n",
    "\n",
    "\n",
    "\n",
    "interactive_plot = interactive(plot_f_rotated, x_0a =slider(-2,6,0.1,-0.4),x_0b =slider(-2,6,0.1,3.6),\n",
    "                                L=slider(0,4,0.1,0.8),k=slider(.1,10,0.01,4.),y_0=slider(0,4,0.1,1.6),\n",
    "                                  m=slider(0,4,0.1,1.),theta=slider(0,np.pi/2,0.1,np.pi/6))\n",
    "    \n",
    "output = interactive_plot.children[-1]\n",
    "output.layout.height = '500px'\n",
    "interactive_plot"
   ]
  },
  {
   "cell_type": "markdown",
   "metadata": {},
   "source": [
    "Now, replicate the above, and add in the un-rotated version with fixed parameters (the working version of the sigmoid function up till this point), and drag to find the parameters that best work for the rotated to match up with it in the left and right limit sections. "
   ]
  },
  {
   "cell_type": "code",
   "execution_count": 15,
   "metadata": {},
   "outputs": [
    {
     "data": {
      "application/vnd.jupyter.widget-view+json": {
       "model_id": "521e80dd8cf14651a702d1e7fbe3edba",
       "version_major": 2,
       "version_minor": 0
      },
      "text/plain": [
       "interactive(children=(FloatSlider(value=-0.4, continuous_update=False, description='x_0a', max=6.0, min=-2.0, …"
      ]
     },
     "metadata": {},
     "output_type": "display_data"
    }
   ],
   "source": [
    "def plot_f_rotated(x_0a,x_0b,L,k,y_0,m,theta):\n",
    "    yl,yu = -4,8\n",
    "    buffer = 10\n",
    "    num_points = 1000\n",
    "    inputs = np.linspace(yl-buffer,yu+buffer,num_points)\n",
    "    \n",
    "    plt.figure(figsize=(8,8))\n",
    "    ax = plt.subplot()\n",
    "    ax.set_aspect('equal')\n",
    "    \n",
    "    #The updating part of the plot is the (scatter) plot of the rotated function\n",
    "    outputs = f_rotated(inputs,x_0a,x_0b,L,k,y_0,m,theta)\n",
    "    plt.plot(inputs,outputs,'o',color='orange')\n",
    "    \n",
    "    #The fixed part is the non-rotated plot of the sigmoid with the previously determined parameters\n",
    "    outputs1 = f_rotated(inputs,                     \n",
    "                         x_0a = -0.4,\n",
    "                         x_0b= 1.45,\n",
    "                         L=0.8,\n",
    "                         k=4.,\n",
    "                         y_0=1.6,\n",
    "                         m=1.,\n",
    "                         theta=0.)\n",
    "    \n",
    "    plt.plot(inputs,outputs1,color='blue')\n",
    "    \n",
    "    \n",
    "    plt.xlim([-10,10])\n",
    "    plt.ylim([-10,10])\n",
    "    ax.spines['left'].set_position('center')\n",
    "    ax.spines['bottom'].set_position('center')\n",
    "\n",
    "    # Eliminate upper and right axes\n",
    "    ax.spines['right'].set_color('none')\n",
    "    ax.spines['top'].set_color('none')\n",
    "\n",
    "    # Show ticks in the left and lower axes only\n",
    "    ax.xaxis.set_ticks_position('bottom')\n",
    "    ax.yaxis.set_ticks_position('left')\n",
    "    ax.set_xticks(np.arange(-10,10,1))\n",
    "    ax.set_yticks(np.arange(-10,10,1))\n",
    "\n",
    "\n",
    "\n",
    "interactive_plot = interactive(plot_f_rotated, x_0a =slider(-2,6,0.01,-0.4),x_0b =slider(-2,6,0.01,1.45),\n",
    "                                L=slider(0,4,0.1,0.8),k=slider(.1,10,0.01,4.),y_0=slider(0,4,0.1,1.6),\n",
    "                                  m=slider(0,1,0.01,1.),theta=slider(0,np.pi/4,0.01,np.pi/6))\n",
    "    \n",
    "output = interactive_plot.children[-1]\n",
    "output.layout.height = '500px'\n",
    "interactive_plot"
   ]
  },
  {
   "cell_type": "markdown",
   "metadata": {},
   "source": [
    "Final plot to check selected parameter values\n",
    "x_0a = -0.4\n",
    "x_0b = 1.45\n",
    "L = 0.8\n",
    "k = 2.4\n",
    "y0 = 1.6\n",
    "m = 0.43\n",
    "theta = 0.37"
   ]
  },
  {
   "cell_type": "code",
   "execution_count": 16,
   "metadata": {
    "scrolled": false
   },
   "outputs": [
    {
     "data": {
      "application/vnd.jupyter.widget-view+json": {
       "model_id": "39ae4c01e2944e9bb13e3a2d017b551e",
       "version_major": 2,
       "version_minor": 0
      },
      "text/plain": [
       "interactive(children=(FloatSlider(value=-0.4, continuous_update=False, description='x_0a', max=6.0, min=-2.0, …"
      ]
     },
     "metadata": {},
     "output_type": "display_data"
    }
   ],
   "source": [
    "def plot_f_rotated(x_0a,x_0b,L,k,y_0,m,theta):\n",
    "    yl,yu = -4,8\n",
    "    buffer = 10\n",
    "    num_points = 1000\n",
    "    inputs = np.linspace(yl-buffer,yu+buffer,num_points)\n",
    "    \n",
    "    plt.figure(figsize=(8,8))\n",
    "    ax = plt.subplot()\n",
    "    ax.set_aspect('equal')\n",
    "    \n",
    "    #The updating part of the plot is the (scatter) plot of the rotated function\n",
    "    outputs = f_rotated(inputs,x_0a,x_0b,L,k,y_0,m,theta)\n",
    "    plt.plot(inputs,outputs,'o',color='orange',label='Leaky Controller \\'A\\'')\n",
    "    \n",
    "    #The fixed part is the non-rotated plot of the sigmoid with the previously determined parameters\n",
    "    outputs1 = f_rotated(inputs,                     \n",
    "                         x_0a = -0.4,\n",
    "                         x_0b= 1.45,\n",
    "                         L=0.8,\n",
    "                         k=4.,\n",
    "                         y_0=1.6,\n",
    "                         m=1.,\n",
    "                         theta=0.)\n",
    "    \n",
    "    plt.plot(inputs,outputs1,color='blue',label='Perfect Controller')\n",
    "    \n",
    "    \n",
    "    plt.xlim([-10,10])\n",
    "    plt.ylim([-10,10])\n",
    "    ax.spines['left'].set_position('center')\n",
    "    ax.spines['bottom'].set_position('center')\n",
    "\n",
    "    # Eliminate upper and right axes\n",
    "    ax.spines['right'].set_color('none')\n",
    "    ax.spines['top'].set_color('none')\n",
    "\n",
    "    # Show ticks in the left and lower axes only\n",
    "    ax.xaxis.set_ticks_position('bottom')\n",
    "    ax.yaxis.set_ticks_position('left')\n",
    "    ax.set_xticks(np.arange(-10,10,1))\n",
    "    ax.set_yticks(np.arange(-10,10,1))\n",
    "    plt.legend()\n",
    "\n",
    "\n",
    "\n",
    "interactive_plot = interactive(plot_f_rotated, x_0a =slider(-2,6,0.01,-0.4),x_0b =slider(-2,6,0.01,1.45),\n",
    "                                L=slider(0,4,0.1,0.8),k=slider(.1,10,0.01,2.4),y_0=slider(0,4,0.1,1.6),\n",
    "                                  m=slider(0,1,0.01,0.43),theta=slider(0,np.pi/4,0.01,0.37))\n",
    "    \n",
    "output = interactive_plot.children[-1]\n",
    "output.layout.height = '500px'\n",
    "interactive_plot"
   ]
  },
  {
   "cell_type": "markdown",
   "metadata": {},
   "source": [
    "Now let's do the blue one as the first modified map we use in the direct arrival computations, and second try using the orange one."
   ]
  },
  {
   "cell_type": "code",
   "execution_count": null,
   "metadata": {},
   "outputs": [],
   "source": []
  },
  {
   "cell_type": "code",
   "execution_count": null,
   "metadata": {},
   "outputs": [],
   "source": []
  }
 ],
 "metadata": {
  "kernelspec": {
   "display_name": "Python 3",
   "language": "python",
   "name": "python3"
  },
  "language_info": {
   "codemirror_mode": {
    "name": "ipython",
    "version": 3
   },
   "file_extension": ".py",
   "mimetype": "text/x-python",
   "name": "python",
   "nbconvert_exporter": "python",
   "pygments_lexer": "ipython3",
   "version": "3.5.2"
  }
 },
 "nbformat": 4,
 "nbformat_minor": 2
}

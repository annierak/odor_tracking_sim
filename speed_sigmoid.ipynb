{
 "cells": [
  {
   "cell_type": "code",
   "execution_count": 1,
   "metadata": {},
   "outputs": [],
   "source": [
    "import numpy as np\n",
    "import matplotlib.pyplot as plt\n",
    "import warnings\n",
    "warnings.filterwarnings('ignore')\n",
    "from ipywidgets import interactive\n",
    "import matplotlib"
   ]
  },
  {
   "cell_type": "code",
   "execution_count": 104,
   "metadata": {},
   "outputs": [],
   "source": [
    "def flat_fun(x):\n",
    "    output = 1.6*np.ones_like(x)\n",
    "    output[x<-0.8] = x[x<-0.8]+2.4\n",
    "    output[x>4] = x[x>4]-2.4\n",
    "    return output\n",
    "def pt1(x,x_0,k,y_0,L):\n",
    "    return ((x-x_0)+(L/2))+y_0\n",
    "def pt2(x,x_0,k,L):\n",
    "    return L/(np.exp((-k)*(x-x_0)) + 1.)\n",
    "#    return np.tanh(k*(x-x_0)/((1.-(x-x_0)**2)))\n",
    "def test(x,x_0,k,L):\n",
    "    return (-k)*(x-x_0)**3\n",
    "def sigmoid(x,x_0,k,y_0,L):\n",
    "    return pt1(x,x_0,k,y_0,L)-pt2(x,x_0,k,L)\n"
   ]
  },
  {
   "cell_type": "code",
   "execution_count": 107,
   "metadata": {},
   "outputs": [
    {
     "data": {
      "application/vnd.jupyter.widget-view+json": {
       "model_id": "33c3e0a9a2eb49f18bda87b08d669bf9",
       "version_major": 2,
       "version_minor": 0
      },
      "text/plain": [
       "interactive(children=(FloatSlider(value=1.6, description='x_0a', max=6.0, min=-2.0), FloatSlider(value=1.6, de…"
      ]
     },
     "metadata": {},
     "output_type": "display_data"
    }
   ],
   "source": [
    "def f(x_0a=1.6,x_0b=1.6,L=0.8,k=4.,y_0=1.6):\n",
    "    yl,yu = -4,8\n",
    "   # yl,yu = -2,2\n",
    "    inputs = np.linspace(-5,8,100)\n",
    "    #inputs = np.linspace(-2,2,100)\n",
    "    fig = plt.figure(figsize=(12,8))\n",
    "    gs = matplotlib.gridspec.GridSpec(2,2)\n",
    "    ax = fig.add_subplot(gs[0,:])\n",
    "    ax.plot(inputs,flat_fun(inputs))\n",
    "    ax.plot(inputs,pt1(inputs,x_0a,k,y_0,L))\n",
    "    ax.set_ylim([yl,yu])\n",
    "    ax = fig.add_subplot(gs[1,0])\n",
    "    ax.plot(inputs,sigmoid(inputs,x_0a,k,y_0,L))\n",
    "    ax.plot(inputs,pt1(inputs,x_0a,k,y_0,L))\n",
    "    ax.plot(inputs,pt2(inputs,x_0a,k,L))\n",
    "  #  ax.plot(inputs,test(inputs,x_0,k,L))\n",
    "    ax.set_ylim([-4,8])\n",
    "    ax = fig.add_subplot(gs[1,1])\n",
    "    ax.plot(inputs,flat_fun(inputs))\n",
    "    ax.plot(inputs,sigmoid(inputs,x_0a,k,y_0,L))\n",
    "    ax.plot(inputs,sigmoid(inputs,x_0b,k,y_0,L))\n",
    "    ax.set_ylim([yl,yu])\n",
    "interactive_plot = interactive(f, x_0a =(-2,6,0.1), x_0b =(-2,6,0.1),L=(0.5,5,0.1),k=(.1,5,0.01),y_0=(0,4,0.1))\n",
    "output = interactive_plot.children[-1]\n",
    "output.layout.height = '1000px'\n",
    "interactive_plot\n"
   ]
  },
  {
   "cell_type": "code",
   "execution_count": null,
   "metadata": {},
   "outputs": [],
   "source": []
  },
  {
   "cell_type": "code",
   "execution_count": null,
   "metadata": {},
   "outputs": [],
   "source": []
  }
 ],
 "metadata": {
  "kernelspec": {
   "display_name": "Python 3",
   "language": "python",
   "name": "python3"
  },
  "language_info": {
   "codemirror_mode": {
    "name": "ipython",
    "version": 3
   },
   "file_extension": ".py",
   "mimetype": "text/x-python",
   "name": "python",
   "nbconvert_exporter": "python",
   "pygments_lexer": "ipython3",
   "version": "3.5.2"
  }
 },
 "nbformat": 4,
 "nbformat_minor": 2
}
